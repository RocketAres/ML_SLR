{
 "cells": [
  {
   "cell_type": "code",
   "execution_count": null,
   "metadata": {
    "collapsed": true
   },
   "outputs": [],
   "source": [
    "from keras import applications\n",
    "from keras.preprocessing.image import ImageDataGenerator\n",
    "from keras import optimizers\n",
    "from keras.models import Sequential, Model\n",
    "from keras.layers import Dropout, Flatten, Dense, Conv2D, MaxPooling2D\n",
    "from keras import backend as k\n",
    "from keras.optimizers import Adam\n",
    "from keras.callbacks import ModelCheckpoint\n",
    "import numpy as np\n",
    "import h5py"
   ]
  },
  {
   "cell_type": "code",
   "execution_count": null,
   "metadata": {
    "collapsed": true
   },
   "outputs": [],
   "source": [
    "img_width, img_height = 256, 256\n",
    "\n",
    "### Build the network\n",
    "model = Sequential()\n",
    "model.add(Conv2D(64, (3, 3), activation='relu', padding='same', name='block1_conv1', input_shape=(256, 256, 3)))\n",
    "model.add(Conv2D(64, (3, 3), activation='relu', padding='same', name='block1_conv2'))\n",
    "model.add(MaxPooling2D((2, 2), strides=(2, 2), name='block1_pool'))\n",
    "\n",
    "# Block 2\n",
    "model.add(Conv2D(128, (3, 3), activation='relu', padding='same', name='block2_conv1'))\n",
    "model.add(Conv2D(128, (3, 3), activation='relu', padding='same', name='block2_conv2'))\n",
    "model.add(MaxPooling2D((2, 2), strides=(2, 2), name='block2_pool'))\n",
    "\n",
    "model.add(Conv2D(256, (3, 3), activation='relu', padding='same', name='block3_conv1'))\n",
    "model.add(Conv2D(256, (3, 3), activation='relu', padding='same', name='block3_conv2'))\n",
    "model.add(Conv2D(256, (3, 3), activation='relu', padding='same', name='block3_conv3'))\n",
    "model.add(MaxPooling2D((2,2), strides=(2,2), name='block3_pool'))\n",
    "\n",
    "model.add(Conv2D(512, (3, 3), activation='relu', padding='same', name='block4_conv1'))\n",
    "model.add(Conv2D(512, (3, 3), activation='relu', padding='same', name='block4_conv2'))\n",
    "model.add(Conv2D(512, (3, 3), activation='relu', padding='same', name='block4_conv3'))\n",
    "model.add(MaxPooling2D((2,2), strides=(2,2), name='block4_pool'))\n",
    "\n",
    "# TODO Use this block ?\n",
    "model.add(Conv2D(512, (3, 3), activation='relu', padding='same', name='block5_conv1'))\n",
    "model.add(Conv2D(512, (3, 3), activation='relu', padding='same', name='block5_conv2'))\n",
    "model.add(Conv2D(512, (3, 3), activation='relu', padding='same', name='block5_conv3'))\n",
    "model.add(MaxPooling2D((2,2), strides=(2,2), name='block5_pool'))\n",
    "\n",
    "model.summary()"
   ]
  },
  {
   "cell_type": "code",
   "execution_count": null,
   "metadata": {
    "collapsed": true
   },
   "outputs": [],
   "source": [
    "layer_dict = dict([(layer.name, layer) for layer in model.layers])\n",
    "a = [layer.name for layer in model.layers]\n",
    "print(a)"
   ]
  },
  {
   "cell_type": "code",
   "execution_count": null,
   "metadata": {
    "collapsed": true
   },
   "outputs": [],
   "source": [
    "weights_path = './vgg19_weights.h5' \n",
    "# ('https://github.com/fchollet/deep-learning-models/releases/download/v0.1/vgg19_weights_tf_dim_ordering_tf_kernels.h5)\n",
    "f = h5py.File(weights_path)\n",
    "model.load_weights(weights_path, by_name=True)\n",
    "\n",
    "layer_count=0;\n",
    "weights_dict = []\n",
    "for layer in model.layers:\n",
    "    weights = layer.get_weights()\n",
    "    weights_dict.append(weights)\n",
    "    layer_count = layer_count + 1\n",
    "    print(\"Model Layer name : {}\".format(str(layer.name)))\n",
    "\n",
    "print(\"The total number layers is : \" + str(layer_count))\n",
    "for i in layer_dict.keys():\n",
    "    index = a.index(i)\n",
    "    model.layers[index].set_weights(weights_dict[index])"
   ]
  },
  {
   "cell_type": "code",
   "execution_count": null,
   "metadata": {
    "collapsed": true
   },
   "outputs": [],
   "source": [
    "\n",
    "model.add(Flatten())\n",
    "model.add(Dense(4096, activation='relu'))\n",
    "model.add(Dropout(0.5))\n",
    "model.add(Dense(4096, activation='relu'))\n",
    "model.add(Dropout(0.5))\n",
    "model.add(Dense(10, activation='softmax'))\n",
    "\n",
    "model.summary()"
   ]
  },
  {
   "cell_type": "code",
   "execution_count": null,
   "metadata": {
    "collapsed": true
   },
   "outputs": [],
   "source": [
    "X_train = []\n",
    "y_train = []\n",
    "\n",
    "dataset_path = \"./data\"\n",
    "\n",
    "directories = [f for f in listdir(dataset_path)]\n",
    "\n",
    "print(directories)"
   ]
  },
  {
   "cell_type": "code",
   "execution_count": null,
   "metadata": {
    "collapsed": true
   },
   "outputs": [],
   "source": [
    "label = 0\n",
    "for direc in directories:\n",
    "    # For each class located in differents folders\n",
    "    print(\"Label {} : {}\".format(label, direc))\n",
    "    for file in listdir(mypath + \"/\" + direc):\n",
    "        try:\n",
    "            img = cv2.imread(dataset_path + \"/\" + direc + \"/\" + file, 1)\n",
    "            # BRG from openCV to RGB\n",
    "            img = cv2.cvtColor(img, cv2.COLOR_BGR2RGB)\n",
    "            img = cv2.resize(img, (256, 256))\n",
    "            img = img.astype(np.float32) / 255.0 - 0.5\n",
    "            X_train.append(im)\n",
    "            y_train.append(label)\n",
    "        except Exception as e:\n",
    "            print(\"Error with file : {}\".format(file))\n",
    "            print(e)\n",
    "    label += 1"
   ]
  },
  {
   "cell_type": "code",
   "execution_count": null,
   "metadata": {
    "collapsed": true
   },
   "outputs": [],
   "source": [
    "from keras.preprocessing.image import ImageDataGenerator\n",
    "X_train = np.array(X_train)\n",
    "shift = 0.2\n",
    "rotation_range = 20\n",
    "\n",
    "# Train generator\n",
    "datagen = ImageDataGenerator(rotation_range=rotation_range, width_shift_range=shift, height_shift_range=shift)\n",
    "datagen.fit(X_train)\n",
    "\n",
    "# Validation generator\n",
    "datagen_validation = ImageDataGenerator()\n",
    "datagen_validation.fit(X_train)"
   ]
  },
  {
   "cell_type": "code",
   "execution_count": null,
   "metadata": {
    "collapsed": true
   },
   "outputs": [],
   "source": [
    "print(np.array(X_train).shape)\n",
    "print(np.array(y_train).shape)\n",
    "y_train = np.array(y_train)\n",
    "\n",
    "y_train_one_hot = np.eye(max(y_train + 1))[y_train]\n",
    "\n",
    "X_train, y_train_one_hot = shuffle(X_train, y_train_one_hot)"
   ]
  },
  {
   "cell_type": "code",
   "execution_count": null,
   "metadata": {
    "collapsed": true
   },
   "outputs": [],
   "source": [
    "batch_size = 16\n",
    "adam = Adam(lr=0.001)\n",
    "model.compile(loss='mse', optimizer=adam, metrics=['accuracy'])\n",
    "\n",
    "filepath=\"./models_vgg/checkpoint_model-{epoch:02d}-{val_acc:.2f}.hdf5\"\n",
    "checkpoint = ModelCheckpoint(filepath, monitor='val_acc', verbose=1, save_best_only=True, mode='max')\n",
    "callbacks_list = [checkpoint]\n",
    "\n",
    "history_object = model.fit_generator(datagen.flow(X_train, y_train_one_hot, batch_size=batch_size),\n",
    "                                     validation_data=datagen_validation.flow(X_train, y_train_one_hot, batch_size=32),\n",
    "                                     samples_per_epoch=len(X_train),\n",
    "                                     epochs=60,\n",
    "                                     verbose=1,\n",
    "                                     validation_steps=int(len(X_train) / batch_size),\n",
    "                                     callbacks=callbacks_list)"
   ]
  },
  {
   "cell_type": "code",
   "execution_count": null,
   "metadata": {
    "collapsed": true
   },
   "outputs": [],
   "source": [
    "model_path = 'models_vgg/first_model.h5'\n",
    "model.save(model_path)\n",
    "print(\"Model saved to {}\".format(model_path))"
   ]
  }
 ],
 "metadata": {
  "kernelspec": {
   "display_name": "Python 3",
   "language": "python",
   "name": "python3"
  },
  "language_info": {
   "codemirror_mode": {
    "name": "ipython",
    "version": 3
   },
   "file_extension": ".py",
   "mimetype": "text/x-python",
   "name": "python",
   "nbconvert_exporter": "python",
   "pygments_lexer": "ipython3",
   "version": "3.6.0"
  }
 },
 "nbformat": 4,
 "nbformat_minor": 2
}
